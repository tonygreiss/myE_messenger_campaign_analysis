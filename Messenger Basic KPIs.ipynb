{
 "cells": [
  {
   "cell_type": "code",
   "execution_count": 103,
   "metadata": {},
   "outputs": [],
   "source": [
    "import pandas as pd\n",
    "import numpy as np\n",
    "import os\n",
    "from tqdm.autonotebook import tqdm\n",
    "import datetime as dt\n",
    "import requests\n",
    "import getpass\n",
    "import time\n",
    "import json\n",
    "from bs4 import BeautifulSoup\n",
    "import zipfile\n",
    "import glob"
   ]
  },
  {
   "cell_type": "code",
   "execution_count": 48,
   "metadata": {},
   "outputs": [
    {
     "name": "stdout",
     "output_type": "stream",
     "text": [
      "CAMPAIGN & LOGIN INFO\n",
      "\n",
      "Enter myElefant LDAP username:agreiss\n",
      "Enter myElefant LDAP password:········\n",
      "Please give the name of the Facebook page (use exact spelling used in botfbm): Volcom (myE)\n",
      "Please give a scenario start date (date format YYYY-MM-DD): 2019-11-25\n",
      "Please give a scenario end date (date format YYYY-MM-DD): 2019-11-28\n",
      "Enter list of Campaign Ids found in https://botfbm.myelefant.com/admin/campaigns (sent) - seperated with a comma: 157467657422534059,157487295624274723\n"
     ]
    }
   ],
   "source": [
    "#CAMPAIGN & LOGIN INFO\n",
    "\n",
    "print(\"CAMPAIGN & LOGIN INFO\")\n",
    "print(\"\")\n",
    "\n",
    "#login\n",
    "USERNAME = input(\"Enter myElefant LDAP username:\")\n",
    "PASSWORD = getpass.getpass(\"Enter myElefant LDAP password:\")\n",
    "\n",
    "#campaign account\n",
    "facebook_page_name = input(\"Please give the name of the Facebook page (use exact spelling used in botfbm): \")\n",
    "facebook_page_id = input(\"Please give the id of the Facebook page : \")\n",
    "\n",
    "#campaign dates\n",
    "scenario_start = input(\"Please give a scenario start date (date format YYYY-MM-DD): \")\n",
    "scenario_start = dt.datetime.strptime(scenario_start, \"%Y-%m-%d\").date()\n",
    "scenario_end = input(\"Please give a scenario end date (date format YYYY-MM-DD): \")\n",
    "scenario_end = dt.datetime.strptime(scenario_end, \"%Y-%m-%d\").date()\n",
    "\n",
    "#list of shoots\n",
    "shoots = input(\"Enter list of Campaign Ids found in https://botfbm.myelefant.com/admin/campaigns (sent) - seperated with a comma: \")\n",
    "shoots = shoots.strip(\" \").split(\",\")"
   ]
  },
  {
   "cell_type": "code",
   "execution_count": 49,
   "metadata": {},
   "outputs": [
    {
     "data": {
      "application/vnd.jupyter.widget-view+json": {
       "model_id": "817d5a0c0d3840309259ce8d55ece178",
       "version_major": 2,
       "version_minor": 0
      },
      "text/html": [
       "<p>Failed to display Jupyter Widget of type <code>HBox</code>.</p>\n",
       "<p>\n",
       "  If you're reading this message in the Jupyter Notebook or JupyterLab Notebook, it may mean\n",
       "  that the widgets JavaScript is still loading. If this message persists, it\n",
       "  likely means that the widgets JavaScript library is either not installed or\n",
       "  not enabled. See the <a href=\"https://ipywidgets.readthedocs.io/en/stable/user_install.html\">Jupyter\n",
       "  Widgets Documentation</a> for setup instructions.\n",
       "</p>\n",
       "<p>\n",
       "  If you're reading this message in another frontend (for example, a static\n",
       "  rendering on GitHub or <a href=\"https://nbviewer.jupyter.org/\">NBViewer</a>),\n",
       "  it may mean that your frontend doesn't currently support widgets.\n",
       "</p>\n"
      ],
      "text/plain": [
       "HBox(children=(IntProgress(value=0, max=2), HTML(value='')))"
      ]
     },
     "metadata": {},
     "output_type": "display_data"
    },
    {
     "name": "stdout",
     "output_type": "stream",
     "text": [
      "\n"
     ]
    }
   ],
   "source": [
    "#get campaign deliverability and read infos\n",
    "\n",
    "resps_json = []\n",
    "\n",
    "for shoot in tqdm(shoots):\n",
    "    url = \"https://botfbm.myelefant.com/admin/campaigns/\"+shoot+\"/report\"\n",
    "    resp = requests.get(url, auth=(USERNAME, PASSWORD))\n",
    "    resp_json = json.loads(resp.content.decode('utf8'))\n",
    "    \n",
    "    keys = ['campaign_id', 'campaign_short_id', 'page_id', 'messages_count', 'sending_date', 'status_code', 'submitted_messages', \n",
    "        'exclusive_submitted_messages', 'delivered_messages', 'exclusive_delivered_messages', 'read_messages', 'failed_messages', \n",
    "         'success']\n",
    "    \n",
    "    data = {key: resp_json[key] for key in keys}\n",
    "    \n",
    "    \n",
    "    resps_json.append(data)\n",
    "    \n",
    "    time.sleep(1)\n",
    "    \n",
    "df_deliver_read = pd.DataFrame.from_records(resps_json)"
   ]
  },
  {
   "cell_type": "code",
   "execution_count": 107,
   "metadata": {},
   "outputs": [],
   "source": [
    "#Function to identify and download zip file\n",
    "def bot_download_file(USERNAME, PASSWORD, facebook_page_id):\n",
    "    \n",
    "    #clean directory by deleting all zip and csv files\n",
    "    for file in glob.glob('*.csv') + glob.glob('*.zip'):\n",
    "        os.remove(file)\n",
    "    \n",
    "    #get html of export page to get list of downloadable files\n",
    "    page = requests.get(\"https://botfbm.myelefant.com/admin/exports/\", auth=(USERNAME, PASSWORD))\n",
    "    soup = BeautifulSoup(page.content, 'html.parser')\n",
    "    \n",
    "    #find file name to use\n",
    "    now = dt.datetime.now()\n",
    "    file = \"\"\n",
    "    \n",
    "    for item in tqdm(soup.find_all(\"td\")[0:len(soup.find_all(\"td\"))]):\n",
    "        if str(now.year)+\"-\"+now.strftime('%m')+\"-\"+str(now.day - 1) in item.get_text():\n",
    "            if item.get_text().endswith(\".zip\"):\n",
    "                if facebook_page_id in item.get_text():\n",
    "                    file = item.get_text()\n",
    "                    break\n",
    "        time.sleep(0.001)\n",
    "    \n",
    "    print(\"File found, download and unzip will begin ...\")\n",
    "        \n",
    "    #download zip\n",
    "    resp = requests.get('https://botfbm.myelefant.com/admin/static/'+file, auth=(USERNAME, PASSWORD))\n",
    "    zname = os.getcwd()+\"\\\\\"+file\n",
    "    zfile = open(zname, 'wb')\n",
    "    zfile.write(resp.content)\n",
    "    zfile.close()\n",
    "    \n",
    "    #unzip file\n",
    "    try:\n",
    "        with zipfile.ZipFile(zname, 'r') as zip_ref:\n",
    "            zip_ref.extractall(os.getcwd())\n",
    "    except:\n",
    "        print(\"Error with this file : {}\".format(zname))\n",
    "        "
   ]
  },
  {
   "cell_type": "code",
   "execution_count": 108,
   "metadata": {
    "scrolled": true
   },
   "outputs": [
    {
     "data": {
      "application/vnd.jupyter.widget-view+json": {
       "model_id": "24a3d007854e49b6b1e83aade884432b",
       "version_major": 2,
       "version_minor": 0
      },
      "text/html": [
       "<p>Failed to display Jupyter Widget of type <code>HBox</code>.</p>\n",
       "<p>\n",
       "  If you're reading this message in the Jupyter Notebook or JupyterLab Notebook, it may mean\n",
       "  that the widgets JavaScript is still loading. If this message persists, it\n",
       "  likely means that the widgets JavaScript library is either not installed or\n",
       "  not enabled. See the <a href=\"https://ipywidgets.readthedocs.io/en/stable/user_install.html\">Jupyter\n",
       "  Widgets Documentation</a> for setup instructions.\n",
       "</p>\n",
       "<p>\n",
       "  If you're reading this message in another frontend (for example, a static\n",
       "  rendering on GitHub or <a href=\"https://nbviewer.jupyter.org/\">NBViewer</a>),\n",
       "  it may mean that your frontend doesn't currently support widgets.\n",
       "</p>\n"
      ],
      "text/plain": [
       "HBox(children=(IntProgress(value=0, max=46460), HTML(value='')))"
      ]
     },
     "metadata": {},
     "output_type": "display_data"
    },
    {
     "name": "stdout",
     "output_type": "stream",
     "text": [
      "File found, download and unzip will begin ...\n"
     ]
    }
   ],
   "source": [
    "bot_download_file(USERNAME, PASSWORD, facebook_page_id)"
   ]
  },
  {
   "cell_type": "code",
   "execution_count": 109,
   "metadata": {
    "scrolled": true
   },
   "outputs": [
    {
     "data": {
      "application/vnd.jupyter.widget-view+json": {
       "model_id": "a2a383c12b08485cb4fcfa8fad084fb9",
       "version_major": 2,
       "version_minor": 0
      },
      "text/html": [
       "<p>Failed to display Jupyter Widget of type <code>HBox</code>.</p>\n",
       "<p>\n",
       "  If you're reading this message in the Jupyter Notebook or JupyterLab Notebook, it may mean\n",
       "  that the widgets JavaScript is still loading. If this message persists, it\n",
       "  likely means that the widgets JavaScript library is either not installed or\n",
       "  not enabled. See the <a href=\"https://ipywidgets.readthedocs.io/en/stable/user_install.html\">Jupyter\n",
       "  Widgets Documentation</a> for setup instructions.\n",
       "</p>\n",
       "<p>\n",
       "  If you're reading this message in another frontend (for example, a static\n",
       "  rendering on GitHub or <a href=\"https://nbviewer.jupyter.org/\">NBViewer</a>),\n",
       "  it may mean that your frontend doesn't currently support widgets.\n",
       "</p>\n"
      ],
      "text/plain": [
       "HBox(children=(IntProgress(value=0, max=8), HTML(value='')))"
      ]
     },
     "metadata": {},
     "output_type": "display_data"
    }
   ],
   "source": [
    "#import full stat data files\n",
    "\n",
    "d ={}\n",
    "\n",
    "dtype_contacts = {'facebook_id': 'str', 'creation_time': 'str', 'last_update': 'str'}\n",
    "parse_dates_contacts = [\"creation_time\", \"last_update\"]\n",
    "\n",
    "dtype_other = {'facebook_id': 'str', 'datetime': 'str'}\n",
    "parse_dates_other = [\"datetime\"]\n",
    "\n",
    "\n",
    "for file in tqdm(os.listdir()):\n",
    "    if file.endswith(\".csv\"):\n",
    "        df_name = file.split(\"_\")[-1].split(\".\")[0]\n",
    "        if df_name == \"contacts\":\n",
    "            d[df_name] =  pd.read_csv(file, sep=\";\", encoding=\"utf8\", low_memory=False, dtype=dtype_contacts, parse_dates=parse_dates_contacts)\n",
    "        else:\n",
    "            d[df_name] =  pd.read_csv(file, sep=\";\", encoding=\"utf8\", low_memory=False, dtype=dtype_other, parse_dates=parse_dates_other)\n",
    "    else:\n",
    "        pass"
   ]
  },
  {
   "cell_type": "code",
   "execution_count": 115,
   "metadata": {
    "scrolled": true
   },
   "outputs": [],
   "source": [
    "#calculate KPIs\n",
    "\n",
    "#KPIs\n",
    "\n",
    "#Deliverability\n",
    "messages_count = df_deliver_read.messages_count.sum()\n",
    "submitted = df_deliver_read.submitted_messages.sum()\n",
    "delivered = df_deliver_read.delivered_messages.sum()\n",
    "deliverability_rate = delivered/submitted\n",
    "failed =  df_deliver_read.failed_messages.sum()\n",
    "\n",
    "\n",
    "#Read\n",
    "read = df_deliver_read.read_messages.sum()\n",
    "read_rate = read/delivered\n",
    "\n",
    "#Contacts\n",
    "contact_date_filter_creation = (d[\"contacts\"].creation_time >= scenario_start) & (d[\"contacts\"].creation_time <= scenario_end)\n",
    "contact_date_filter_update = (d[\"contacts\"].last_update >= scenario_start) & (d[\"contacts\"].last_update <= scenario_end)\n",
    "\n",
    "optins = d[\"contacts\"].facebook_id.nunique()\n",
    "new_users = d[\"contacts\"][contact_date_filter_creation].facebook_id.nunique()\n",
    "acquisition_rate = new_users/d[\"contacts\"][d[\"contacts\"].creation_time <= scenario_start].facebook_id.nunique()\n",
    "retention_rate = d[\"contacts\"][(d[\"contacts\"].creation_time <= scenario_start) & \n",
    "                               (d[\"contacts\"].last_update >= scenario_start)].facebook_id.nunique() / d[\"contacts\"][d[\"contacts\"].creation_time <= scenario_start].facebook_id.nunique()\n",
    "\n",
    "#Incoming Interactions\n",
    "in_date_filter = (d[\"in\"].datetime >= scenario_start) & (d[\"in\"].datetime <= scenario_end)\n",
    "\n",
    "active_user = d[\"in\"][in_date_filter].facebook_id.nunique()\n",
    "total_in = d[\"in\"][in_date_filter].facebook_id.count()\n",
    "in_per_user = round(total_in/active_user)\n",
    "\n",
    "#Outgoing Interactions\n",
    "out_date_filter = (d[\"out\"].datetime >= scenario_start) & (d[\"out\"].datetime <= scenario_end)\n",
    "\n",
    "total_out = d[\"out\"][out_date_filter].scenario_part_messages_count.sum()\n",
    "out_per_user = round(total_out/active_user)\n",
    "\n",
    "#Trackers\n",
    "tracker_date_filter = (d[\"trackers\"].datetime >= scenario_start) & (d[\"trackers\"].datetime <= scenario_end)\n",
    "\n",
    "total_trackers = d[\"trackers\"][tracker_date_filter].facebook_id.count()\n",
    "unique_trackers = d[\"trackers\"][tracker_date_filter].facebook_id.nunique()"
   ]
  },
  {
   "cell_type": "code",
   "execution_count": 116,
   "metadata": {},
   "outputs": [
    {
     "name": "stdout",
     "output_type": "stream",
     "text": [
      "DELIVERABILITY\n",
      "- total direct messages: 5562\n",
      "- submitted: 2908\n",
      "- delivered: 2892\n",
      "- deliverability rate: 99.45%\n",
      "- failed: 2654\n",
      "\n",
      "READ\n",
      "- read: 2722\n",
      "- read rate: 94.12%\n",
      "\n",
      "CONTACTS\n",
      "- optins: 3358\n",
      "- new users: 2\n",
      "- retention rate: 34.99%\n",
      "- acquisition rate: 0.06%\n",
      "\n",
      "INCOMING\n",
      "- active users: 1149\n",
      "- total incoming interactions (sent by user): 11689\n",
      "- average incoming interactions per active users: 10.0\n",
      "\n",
      "OUTGOING\n",
      "- total outgoing interactions (sent to user): 25762\n",
      "- average outgoing interactions per active users: 22.0\n",
      "\n",
      "TRACKERS\n",
      "- total clicks (on external links): 0\n",
      "- unique clickers (on external links): 0\n"
     ]
    }
   ],
   "source": [
    "print(\"DELIVERABILITY\")\n",
    "print(\"- total direct messages: {}\".format(messages_count))\n",
    "print(\"- submitted: {}\".format(submitted))\n",
    "print(\"- delivered: {}\".format(delivered))\n",
    "print(\"- deliverability rate: {0:.2%}\".format(deliverability_rate))\n",
    "print(\"- failed: {}\".format(failed))\n",
    "print(\"\")\n",
    "print(\"READ\")\n",
    "print(\"- read: {}\".format(read))\n",
    "print(\"- read rate: {0:.2%}\".format(read_rate))\n",
    "print(\"\")\n",
    "print(\"CONTACTS\")\n",
    "print(\"- optins: {}\".format(optins))\n",
    "print(\"- new users: {}\".format(new_users))\n",
    "print(\"- retention rate: {0:.2%}\".format(retention_rate))\n",
    "print(\"- acquisition rate: {0:.2%}\".format(acquisition_rate))\n",
    "print(\"\")\n",
    "print(\"INCOMING\")\n",
    "print(\"- active users: {}\".format(active_user))\n",
    "print(\"- total incoming interactions (sent by user): {}\".format(total_in))\n",
    "print(\"- average incoming interactions per active users: {}\".format(in_per_user))\n",
    "print(\"\")\n",
    "print(\"OUTGOING\")\n",
    "print(\"- total outgoing interactions (sent to user): {}\".format(total_out))\n",
    "print(\"- average outgoing interactions per active users: {}\".format(out_per_user))\n",
    "print(\"\")\n",
    "print(\"TRACKERS\")\n",
    "print(\"- total clicks (on external links): {}\".format(total_trackers))\n",
    "print(\"- unique clickers (on external links): {}\".format(unique_trackers))"
   ]
  }
 ],
 "metadata": {
  "kernelspec": {
   "display_name": "Python 3",
   "language": "python",
   "name": "python3"
  },
  "language_info": {
   "codemirror_mode": {
    "name": "ipython",
    "version": 3
   },
   "file_extension": ".py",
   "mimetype": "text/x-python",
   "name": "python",
   "nbconvert_exporter": "python",
   "pygments_lexer": "ipython3",
   "version": "3.8.5"
  }
 },
 "nbformat": 4,
 "nbformat_minor": 2
}
